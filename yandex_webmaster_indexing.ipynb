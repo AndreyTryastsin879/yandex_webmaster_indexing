{
 "cells": [
  {
   "cell_type": "markdown",
   "id": "3ceaf521",
   "metadata": {},
   "source": [
    "## Содержание:\n",
    "* [1. Отправка списка страниц на индексирование в Яндекс Вебмастер](#1)\n",
    "* [-- Настройки](#2)\n",
    "* [-- Загрузка URL для индексирования](#3)\n",
    "* [-- Отправка на индексирование](#4)\n",
    "\n",
    "\n",
    "\n",
    "\n",
    "* [2. Получение списка проиндексированных страниц](#5)\n",
    "* [-- Настройки](#6)\n",
    "* [-- Получение списка страниц](#7)\n",
    "* [-- Сопоставление полученных url из Вебмастера с актуальными адресами на сайте](#8)\n"
   ]
  },
  {
   "cell_type": "markdown",
   "id": "f789d4eb",
   "metadata": {},
   "source": [
    "# Отправка списка страниц на индексирование в Яндекс Вебмастер<a class=\"anchor\" id=\"1\"></a>"
   ]
  },
  {
   "cell_type": "code",
   "execution_count": 1,
   "id": "16a2f7e6",
   "metadata": {},
   "outputs": [],
   "source": [
    "import json\n",
    "import requests\n",
    "\n",
    "import pandas as pd"
   ]
  },
  {
   "cell_type": "markdown",
   "id": "53979924",
   "metadata": {},
   "source": [
    "## Настройки<a class=\"anchor\" id=\"2\"></a>"
   ]
  },
  {
   "cell_type": "code",
   "execution_count": 2,
   "id": "ea8299e3",
   "metadata": {},
   "outputs": [],
   "source": [
    "TOKEN = 'y0_AgABCAAZqca9AAaElQAAAADKLs4Yq_tVuPHCZOKIQLy3rAYljzWccks' #укажите свой токен"
   ]
  },
  {
   "cell_type": "markdown",
   "id": "b9d6b0f3",
   "metadata": {},
   "source": [
    "**user id**"
   ]
  },
  {
   "cell_type": "code",
   "execution_count": 3,
   "id": "bb71d1e9",
   "metadata": {},
   "outputs": [],
   "source": [
    "USERID_URL = 'https://api.webmaster.yandex.net/v4/user'"
   ]
  },
  {
   "cell_type": "markdown",
   "id": "be822165",
   "metadata": {},
   "source": [
    "**отправка на переобход**"
   ]
  },
  {
   "cell_type": "code",
   "execution_count": null,
   "id": "88a4e55a",
   "metadata": {},
   "outputs": [],
   "source": [
    "RECRAWL_URL_TEMPLATE = 'https://api.webmaster.yandex.net/v4/user/{}/hosts/{}/recrawl/queue'"
   ]
  },
  {
   "cell_type": "markdown",
   "id": "0bb08f8e",
   "metadata": {},
   "source": [
    "Документация <a href='https://yandex.ru/dev/webmaster/doc/dg/reference/host-recrawl-post.html'>https://yandex.ru/dev/webmaster/doc/dg/reference/host-recrawl-post.html</a>\n"
   ]
  },
  {
   "cell_type": "markdown",
   "id": "f23860c7",
   "metadata": {},
   "source": [
    "**параметры проекта**"
   ]
  },
  {
   "cell_type": "code",
   "execution_count": 4,
   "id": "486ff6e4",
   "metadata": {},
   "outputs": [],
   "source": [
    "host = 'https:megaposm.com:443' #укажите host из Яндекс Вебмастера для своего проекта"
   ]
  },
  {
   "cell_type": "code",
   "execution_count": 5,
   "id": "5af1ed25",
   "metadata": {},
   "outputs": [],
   "source": [
    "project_name = 'megaposm' #как называется файл без расширения"
   ]
  },
  {
   "cell_type": "markdown",
   "id": "85fdd7c3",
   "metadata": {},
   "source": [
    "## Загрузка URL для индексирования<a class=\"anchor\" id=\"3\"></a>"
   ]
  },
  {
   "cell_type": "markdown",
   "id": "e08137b2",
   "metadata": {},
   "source": [
    "Файл в формате xlsx с названием поля \"urls\":"
   ]
  },
  {
   "cell_type": "code",
   "execution_count": 6,
   "id": "8e9ddbd0",
   "metadata": {},
   "outputs": [],
   "source": [
    "table_with_urls_for_recrawl = pd.read_excel(f'{project_name}.xlsx')"
   ]
  },
  {
   "cell_type": "markdown",
   "id": "cf98ade8",
   "metadata": {},
   "source": [
    "## Отправка на индексирование <a class=\"anchor\" id=\"4\"></a>"
   ]
  },
  {
   "cell_type": "markdown",
   "id": "caac94ad",
   "metadata": {},
   "source": [
    "### Авторизация"
   ]
  },
  {
   "cell_type": "code",
   "execution_count": 7,
   "id": "88dcf3ff",
   "metadata": {},
   "outputs": [],
   "source": [
    "def get_auth_headers():\n",
    "    return {'Authorization': f'OAuth {TOKEN}'}"
   ]
  },
  {
   "cell_type": "markdown",
   "id": "92ae447f",
   "metadata": {},
   "source": [
    "### Получение user_id Яндекс Вебмастера"
   ]
  },
  {
   "cell_type": "code",
   "execution_count": 8,
   "id": "4a16e316",
   "metadata": {},
   "outputs": [],
   "source": [
    "def get_user_id():\n",
    "    r = requests.get(USERID_URL, headers=get_auth_headers())\n",
    "    user_id = json.loads(r.text)['user_id']\n",
    "    return user_id"
   ]
  },
  {
   "cell_type": "markdown",
   "id": "b02f1fae",
   "metadata": {},
   "source": [
    "### Отправка на индексирование"
   ]
  },
  {
   "cell_type": "markdown",
   "id": "902bca73",
   "metadata": {},
   "source": [
    "Функция принимает датафрейм, <br>\n",
    "перебирает каждый url из списка и отправляет его на переобход, пока будет получен ответ НЕ 202,<br>\n",
    "возвращает список отправленных url."
   ]
  },
  {
   "cell_type": "code",
   "execution_count": 14,
   "id": "61f3b030",
   "metadata": {},
   "outputs": [],
   "source": [
    "def send_urls_to_yandex_for_recrawl(data, user_id, host):\n",
    "\n",
    "    sent_urls_for_recrawl = []\n",
    "\n",
    "    for url in data['urls']:\n",
    "        \n",
    "        yandex_webmaster_recrawl_url = RECRAWL_URL_TEMPLATE.format(user_id, host)\n",
    "\n",
    "        url_for_recrawl = {'url': f'{url}'}\n",
    "\n",
    "        r = requests.post(yandex_webmaster_recrawl_url,\n",
    "                          headers = get_auth_headers(),\n",
    "                          json = url_for_recrawl\n",
    "                         )\n",
    "\n",
    "        if r.status_code != 202:\n",
    "            break\n",
    "\n",
    "        sent_urls_for_recrawl.append(url)\n",
    "\n",
    "    sent_urls_list_len = len(sent_urls_for_recrawl)\n",
    "\n",
    "    print(json.loads(r.text))\n",
    "    print('На переобход отправлено:', sent_urls_list_len)\n",
    "    \n",
    "    return sent_urls_for_recrawl"
   ]
  },
  {
   "cell_type": "markdown",
   "id": "bb99305b",
   "metadata": {},
   "source": [
    "### Удаление из списка и экспорт"
   ]
  },
  {
   "cell_type": "markdown",
   "id": "94fab080",
   "metadata": {},
   "source": [
    "Функция принимает датафрейм и список отправленных url,<br>\n",
    "Из загруженной таблицы удаляются url, которые были отправлены. Это нужно для того, чтобы в следующий раз, когда обновится квота, эти же страницы не оправлялись на переобход."
   ]
  },
  {
   "cell_type": "markdown",
   "id": "6d7a88b2",
   "metadata": {},
   "source": [
    "**Экспорт**"
   ]
  },
  {
   "cell_type": "code",
   "execution_count": 10,
   "id": "654d65a9",
   "metadata": {},
   "outputs": [],
   "source": [
    "def export_data_to_excel(data):\n",
    "    project_report = pd.ExcelWriter(f'{project_name}.xlsx', engine='xlsxwriter')\n",
    "    data.to_excel(project_report, index=False)\n",
    "    project_report.save()"
   ]
  },
  {
   "cell_type": "markdown",
   "id": "516e1106",
   "metadata": {},
   "source": [
    "**Удаление и экспорт**"
   ]
  },
  {
   "cell_type": "code",
   "execution_count": 11,
   "id": "46baf767",
   "metadata": {},
   "outputs": [],
   "source": [
    "def delete_sent_urls_and_export_new_table(data, sent_urls_for_recrawl):\n",
    "    data = data[~data['urls'].isin(sent_urls_for_recrawl)]\n",
    "    export_data_to_excel(data)"
   ]
  },
  {
   "cell_type": "markdown",
   "id": "ac43cbe1",
   "metadata": {},
   "source": [
    "## Главная функция"
   ]
  },
  {
   "cell_type": "code",
   "execution_count": 15,
   "id": "42387652",
   "metadata": {},
   "outputs": [],
   "source": [
    "def main_send_pages_to_yandex_for_recrawl(data):\n",
    "    user_id = get_user_id()\n",
    "    \n",
    "    sent_urls_for_recrawl = send_urls_to_yandex_for_recrawl(data, user_id, host)\n",
    "    \n",
    "    delete_sent_urls_and_export_new_table(data, sent_urls_for_recrawl)"
   ]
  },
  {
   "cell_type": "markdown",
   "id": "95f30217",
   "metadata": {},
   "source": [
    "## Запуск"
   ]
  },
  {
   "cell_type": "code",
   "execution_count": 16,
   "id": "ba4fdd6d",
   "metadata": {},
   "outputs": [
    {
     "name": "stdout",
     "output_type": "stream",
     "text": [
      "{'daily_quota': 90, 'exceeded_until': '2022-11-12T00:00:00.000+03:00', 'error_message': 'Daily quota exceeded', 'error_code': 'QUOTA_EXCEEDED'}\n",
      "На переобход отправлено: 90\n"
     ]
    }
   ],
   "source": [
    "main_send_pages_to_yandex_for_recrawl(table_with_urls_for_recrawl)"
   ]
  },
  {
   "cell_type": "markdown",
   "id": "d77c63ca",
   "metadata": {},
   "source": []
  },
  {
   "cell_type": "markdown",
   "id": "2366cb5b",
   "metadata": {},
   "source": [
    "# Получение списка проиндексированных страниц<a class=\"anchor\" id=\"5\"></a>"
   ]
  },
  {
   "cell_type": "code",
   "execution_count": 83,
   "id": "aed09232",
   "metadata": {},
   "outputs": [],
   "source": [
    "import json\n",
    "import requests\n",
    "import os\n",
    "from datetime import datetime\n",
    "\n",
    "\n",
    "from bs4 import BeautifulSoup\n",
    "import pandas as pd"
   ]
  },
  {
   "cell_type": "markdown",
   "id": "2a3d63bd",
   "metadata": {},
   "source": [
    "## Настройки<a class=\"anchor\" id=\"6\"></a>"
   ]
  },
  {
   "cell_type": "code",
   "execution_count": 24,
   "id": "4d0a68f8",
   "metadata": {},
   "outputs": [],
   "source": [
    "TOKEN = 'y0_AgABCAAZqca9AAaElQAAAADKLs4Yq_tVuPHCZOKIQLy3rAYljzWccks' #укажите свой токен"
   ]
  },
  {
   "cell_type": "markdown",
   "id": "e611c492",
   "metadata": {},
   "source": [
    "**user id**"
   ]
  },
  {
   "cell_type": "code",
   "execution_count": 25,
   "id": "fd8be7a0",
   "metadata": {},
   "outputs": [],
   "source": [
    "USERID_URL = 'https://api.webmaster.yandex.net/v4/user'"
   ]
  },
  {
   "cell_type": "markdown",
   "id": "08e01b10",
   "metadata": {},
   "source": [
    "**получение статистики по проекту**"
   ]
  },
  {
   "cell_type": "code",
   "execution_count": 26,
   "id": "178f07a9",
   "metadata": {},
   "outputs": [],
   "source": [
    "HOST_STAT_URL_TEMPLATE = 'https://api.webmaster.yandex.net/v4/user/{}/hosts/{}/summary'"
   ]
  },
  {
   "cell_type": "markdown",
   "id": "c60c4cc5",
   "metadata": {},
   "source": [
    "Документация <a href='https://yandex.ru/dev/webmaster/doc/dg/reference/host-id-summary.html'>https://yandex.ru/dev/webmaster/doc/dg/reference/host-id-summary.html</a>\n"
   ]
  },
  {
   "cell_type": "markdown",
   "id": "52d1e0a2",
   "metadata": {},
   "source": [
    "**получение списка url в поисковой базе**"
   ]
  },
  {
   "cell_type": "code",
   "execution_count": 27,
   "id": "15b82e3b",
   "metadata": {},
   "outputs": [],
   "source": [
    "INSEARCH_URL_TEMPLATE = 'https://api.webmaster.yandex.net/v4/user/{}/hosts/{}/search-urls/in-search/samples'"
   ]
  },
  {
   "cell_type": "markdown",
   "id": "3f78da56",
   "metadata": {},
   "source": [
    "Документация <a href='https://yandex.ru/dev/webmaster/doc/dg/reference/hosts-indexing-insearch-samples.html#hosts-indexing-insearch-samples'>https://yandex.ru/dev/webmaster/doc/dg/reference/hosts-indexing-insearch-samples.html#hosts-indexing-insearch-samples</a>"
   ]
  },
  {
   "cell_type": "markdown",
   "id": "749f76e2",
   "metadata": {},
   "source": [
    "<em>**Для получения списка страниц необходимо указать количество страниц, получаемое за одну итерацию, максимально можно указать 100**</em>"
   ]
  },
  {
   "cell_type": "code",
   "execution_count": 28,
   "id": "dfde875e",
   "metadata": {},
   "outputs": [],
   "source": [
    "YANDEX_PER_REQUEST_PAGE_LIMIT = 100"
   ]
  },
  {
   "cell_type": "markdown",
   "id": "719130a6",
   "metadata": {},
   "source": [
    "**параметры проекта**"
   ]
  },
  {
   "cell_type": "code",
   "execution_count": 58,
   "id": "321242eb",
   "metadata": {},
   "outputs": [],
   "source": [
    "host = 'https:megaposm.com:443' #укажите host из Яндекс Вебмастера для своего проекта"
   ]
  },
  {
   "cell_type": "code",
   "execution_count": 30,
   "id": "ebcd5fce",
   "metadata": {},
   "outputs": [],
   "source": [
    "project_name = 'megaposm' #как называется файл без расширения"
   ]
  },
  {
   "cell_type": "code",
   "execution_count": 80,
   "id": "96df14a1",
   "metadata": {},
   "outputs": [],
   "source": [
    "sitemap_path = 'https://megaposm.com/index.php?route=extension/feed/google_sitemap'"
   ]
  },
  {
   "cell_type": "markdown",
   "id": "f5b6e63b",
   "metadata": {},
   "source": [
    "**директория для визульного отчета**"
   ]
  },
  {
   "cell_type": "code",
   "execution_count": 54,
   "id": "e1941e28",
   "metadata": {},
   "outputs": [],
   "source": [
    "YANDEX_VISUAL_REPORTS_DIR = 'results/visual_reports/yandex'"
   ]
  },
  {
   "cell_type": "markdown",
   "id": "5ecb567d",
   "metadata": {},
   "source": [
    "**директория для файлов со списком url на переобход**"
   ]
  },
  {
   "cell_type": "code",
   "execution_count": 55,
   "id": "8f6c47a7",
   "metadata": {},
   "outputs": [],
   "source": [
    "YANDEX_RECRAWL_BASES_DIR = 'results/recrawl_bases/yandex'"
   ]
  },
  {
   "cell_type": "markdown",
   "id": "5ad34370",
   "metadata": {},
   "source": [
    "## Получение списка страниц<a class=\"anchor\" id=\"7\"></a>"
   ]
  },
  {
   "cell_type": "markdown",
   "id": "d40fbfcc",
   "metadata": {},
   "source": [
    "### Авторизация"
   ]
  },
  {
   "cell_type": "code",
   "execution_count": 17,
   "id": "4a0224a3",
   "metadata": {},
   "outputs": [],
   "source": [
    "def get_auth_headers():\n",
    "    return {'Authorization': f'OAuth {TOKEN}'}"
   ]
  },
  {
   "cell_type": "markdown",
   "id": "7ff7585c",
   "metadata": {},
   "source": [
    "### Получение user_id Яндекс Вебмастера"
   ]
  },
  {
   "cell_type": "code",
   "execution_count": 18,
   "id": "d6abd561",
   "metadata": {},
   "outputs": [],
   "source": [
    "def get_user_id():\n",
    "    r = requests.get(USERID_URL, headers=get_auth_headers())\n",
    "    user_id = json.loads(r.text)['user_id']\n",
    "    return user_id"
   ]
  },
  {
   "cell_type": "markdown",
   "id": "0310fb1f",
   "metadata": {},
   "source": [
    "### Получение URL из поисковой базы"
   ]
  },
  {
   "cell_type": "markdown",
   "id": "7233e0cf",
   "metadata": {},
   "source": [
    "Функция принимает user id и хост,<br>\n",
    "\n",
    "получает число проиндексированных страниц - indexed_pages_quantity,<br>\n",
    "\n",
    "указаны параметры offset - смещение списка, т.е. с какой строки в списке будут получены url и limit - сколько страниц будет получено за один шаг - ранее был указан этот параметр в YANDEX_PER_REQUEST_PAGE_LIMIT,<br>\n",
    "\n",
    "запускается цикл while, который работает пока offser меньше числа проиндексированных страниц - indexed_pages_quantity,<br>\n",
    "\n",
    "запускается генератор множеств (set), в котороый добавляются полученные url,<br>\n",
    "\n",
    "полученный set с адресами объединяется с общим множеством indexed_pages,<br>\n",
    "\n",
    "к offset прибавляется число полученных url YANDEX_PER_REQUEST_PAGE_LIMIT,<br>\n",
    "\n",
    "функция возвращает множество indexed_pages.\n"
   ]
  },
  {
   "cell_type": "code",
   "execution_count": 78,
   "id": "f4f38c3b",
   "metadata": {},
   "outputs": [],
   "source": [
    "def yandex_get_indexed_pages(user_id, host):\n",
    "    host_stat_url = HOST_STAT_URL_TEMPLATE.format(user_id, host)\n",
    "    insearch_url = INSEARCH_URL_TEMPLATE.format(user_id, host)\n",
    "\n",
    "    r = requests.get(host_stat_url, headers=get_auth_headers())\n",
    "    indexed_pages_quantity = json.loads(r.text)['searchable_pages_count']\n",
    "    \n",
    "    print(f'В поисковой базе содержится {indexed_pages_quantity} страниц',)\n",
    "\n",
    "    indexed_pages = set()\n",
    "    params = {'offset': 0, 'limit': YANDEX_PER_REQUEST_PAGE_LIMIT}\n",
    "    while params['offset'] < indexed_pages_quantity:\n",
    "        r = requests.get(insearch_url, headers=get_auth_headers(), params=params)\n",
    "        current_urls = {element['url'] for element in json.loads(r.text)['samples']}\n",
    "        indexed_pages = indexed_pages.union(current_urls)\n",
    "        params['offset'] += YANDEX_PER_REQUEST_PAGE_LIMIT\n",
    "        \n",
    "    return indexed_pages"
   ]
  },
  {
   "cell_type": "markdown",
   "id": "ae8a1bb9",
   "metadata": {},
   "source": [
    "Отмечу, что Яндекс Вебмастер предоставляет только 50 000 строк с url, которые хранятся в его базе. Если на сайте больше страниц, то дальнейшее сопоставление даст некорректные результаты."
   ]
  },
  {
   "cell_type": "markdown",
   "id": "fcf09ae2",
   "metadata": {},
   "source": [
    "## Сопоставление полученных url из Вебмастера с актуальными адресами на сайте<a class=\"anchor\" id=\"8\"></a>"
   ]
  },
  {
   "cell_type": "markdown",
   "id": "035fce8a",
   "metadata": {},
   "source": [
    "Функция возвращает set для удобного сопоставления с url, которые у вас на сайте.<br>\n",
    "\n",
    "Актуальный список url вы можете получить при парсинге краулером, например Comparser. Затем загрузите таблицу, например с названием поля 'urls', где будут перечислены адреса:<br>"
   ]
  },
  {
   "cell_type": "code",
   "execution_count": 62,
   "id": "c5699581",
   "metadata": {},
   "outputs": [],
   "source": [
    "parsed_urls = pd.read_excel(f'{project_name}.xlsx')"
   ]
  },
  {
   "cell_type": "markdown",
   "id": "5da7f1aa",
   "metadata": {},
   "source": [
    "Конвертация в set:"
   ]
  },
  {
   "cell_type": "code",
   "execution_count": 36,
   "id": "7bc690c4",
   "metadata": {},
   "outputs": [],
   "source": [
    "site_pages = set(parsed_urls['urls'])"
   ]
  },
  {
   "cell_type": "markdown",
   "id": "5a70a86b",
   "metadata": {},
   "source": [
    "Далее для сопоставления я буду использовать адреса из sitemap."
   ]
  },
  {
   "cell_type": "markdown",
   "id": "47637925",
   "metadata": {},
   "source": [
    "### Парсинг Sitemap"
   ]
  },
  {
   "cell_type": "markdown",
   "id": "d107cf77",
   "metadata": {},
   "source": [
    "Можно указать user agent, чтобы парсер не получил ответ 403 из-за настроек сервера или CDN, например CloudFlare:"
   ]
  },
  {
   "cell_type": "code",
   "execution_count": 63,
   "id": "9e4c4fe2",
   "metadata": {},
   "outputs": [],
   "source": [
    "user_agent = {'User-agent': 'Mozilla/5.0'}"
   ]
  },
  {
   "cell_type": "markdown",
   "id": "841d5fac",
   "metadata": {},
   "source": [
    "**Одна карта**"
   ]
  },
  {
   "cell_type": "markdown",
   "id": "d70655bc",
   "metadata": {},
   "source": [
    "Функция принимает адрес карты сайта,<br>\n",
    "\n",
    "парсит,<br>\n",
    "\n",
    "возвращает set с адресами из карты сайта."
   ]
  },
  {
   "cell_type": "code",
   "execution_count": 81,
   "id": "4bb673ae",
   "metadata": {},
   "outputs": [],
   "source": [
    "def parse_sitemap_one_map(sitemap_path):\n",
    "    r = requests.get(sitemap_path, headers=user_agent)\n",
    "    soup = BeautifulSoup(r.text, 'xml')\n",
    "    url_set = {url.text for url in soup.find_all('loc')}\n",
    "    \n",
    "    print('Количество страниц в Sitemap:', len(url_set))\n",
    "    \n",
    "    return url_set"
   ]
  },
  {
   "cell_type": "markdown",
   "id": "01c18e30",
   "metadata": {},
   "source": [
    "**Мультакарта**"
   ]
  },
  {
   "cell_type": "markdown",
   "id": "79b6bc5e",
   "metadata": {},
   "source": [
    "Функция принимает адрес карты сайта,<br>\n",
    "\n",
    "парсит, получает список вложенных карт,<br>\n",
    "\n",
    "парсит по очереди вложенные карты,<br>\n",
    "\n",
    "возвращает set со всеми адресами из мультикарты."
   ]
  },
  {
   "cell_type": "code",
   "execution_count": 82,
   "id": "c9dfd578",
   "metadata": {},
   "outputs": [],
   "source": [
    "def parse_sitemap_many_maps(sitemap_path):\n",
    "\n",
    "    r = requests.get(sitemap_path, headers=user_agent)\n",
    "    soup = BeautifulSoup(r.text, 'xml')\n",
    "    maps = [sitemap.text for sitemap in soup.find_all('loc')]\n",
    "    \n",
    "    url_set = set()\n",
    "    for sitemap in maps:\n",
    "        r = requests.get(sitemap, headers=user_agent)\n",
    "        soup = BeautifulSoup(r.text, 'xml')\n",
    "        current_urls = {url.text for url in soup.find_all('loc')}\n",
    "        url_set = url_set.union(current_urls)\n",
    "    \n",
    "    print('Количество страниц в Sitemap:', len(url_set))\n",
    "\n",
    "    return url_set"
   ]
  },
  {
   "cell_type": "markdown",
   "id": "9beca84e",
   "metadata": {},
   "source": [
    "## Сопоставление адресов из базы Яндекса с адресами из Sitemap"
   ]
  },
  {
   "cell_type": "markdown",
   "id": "fafc389e",
   "metadata": {},
   "source": [
    "### Сопоставление"
   ]
  },
  {
   "cell_type": "markdown",
   "id": "0e5c8ba5",
   "metadata": {},
   "source": [
    "Функция принимает set с адресами из базы Яндекса и set с адресами из карты сайта,<br>\n",
    "\n",
    "в pages_in_index_but_not_in_sitemap записываются адреса, которые есть в поисковой базе, но отсутствуют в карте сайта,<br>\n",
    "\n",
    "в pages_is_sitemap_but_not_in_index записываются адреса, которые есть в карте сайта, но отсутствуют в поисковой базе,<br>\n",
    "\n",
    "оба отчета записываются в соседние колонки датафрейма для дальнейшего визуального сопоставления,<br>\n",
    "\n",
    "функция возвращает датафрейм."
   ]
  },
  {
   "cell_type": "code",
   "execution_count": 66,
   "id": "6477c900",
   "metadata": {},
   "outputs": [],
   "source": [
    "def comapre_indexed_pages_with_pages_in_sitemap(indexed_pages, pages_in_sitemap):\n",
    "    pages_in_index_but_not_in_sitemap = indexed_pages - pages_in_sitemap\n",
    "    pages_is_sitemap_but_not_in_index = pages_in_sitemap - indexed_pages\n",
    "\n",
    "    pages_in_index_but_not_in_sitemap_df = pd.DataFrame(\n",
    "        pages_in_index_but_not_in_sitemap,\n",
    "        columns=['pages_in_index_but_not_in_sitemap']\n",
    "    )\n",
    "    pages_is_sitemap_but_not_in_index_df = pd.DataFrame(\n",
    "        pages_is_sitemap_but_not_in_index,\n",
    "        columns=['pages_is_sitemap_but_not_in_index']\n",
    "    )\n",
    "    df = pd.concat([pages_in_index_but_not_in_sitemap_df, pages_is_sitemap_but_not_in_index_df], axis=1)\n",
    "    return df"
   ]
  },
  {
   "cell_type": "markdown",
   "id": "edb7a91b",
   "metadata": {},
   "source": [
    "### Создание визуального отчета в таблице"
   ]
  },
  {
   "cell_type": "markdown",
   "id": "2252e5c3",
   "metadata": {},
   "source": [
    "**Функция с настройками для экспорта**"
   ]
  },
  {
   "cell_type": "code",
   "execution_count": 67,
   "id": "30c2ba78",
   "metadata": {},
   "outputs": [],
   "source": [
    "def export_report_data_to_excel(data, path, filename):\n",
    "    os.makedirs(path, exist_ok=True)\n",
    "    project_report = pd.ExcelWriter(os.path.join(path, filename), engine='xlsxwriter')\n",
    "    data.to_excel(project_report, index=False)\n",
    "    project_report.save()"
   ]
  },
  {
   "cell_type": "markdown",
   "id": "dc7dbb8f",
   "metadata": {},
   "source": [
    "**Экспорт визуального отчета**"
   ]
  },
  {
   "cell_type": "markdown",
   "id": "f3fdd494",
   "metadata": {},
   "source": [
    "Функция принимает название проекта, путь, по которому будет лежать отчет, set с url в индексе, set url из карты сайта,<br>\n",
    "\n",
    "затем запускается функция сопоставления и запись датафрейма в data,<br>\n",
    "\n",
    "экспортируется файл, название которого состоит из названия проекта и даты отчета."
   ]
  },
  {
   "cell_type": "code",
   "execution_count": 69,
   "id": "b0ab2fa4",
   "metadata": {},
   "outputs": [],
   "source": [
    "def make_visual_report_for_yandex(project_name, path, indexed_pages, pages_in_sitemap):\n",
    "    data = comapre_indexed_pages_with_pages_in_sitemap(indexed_pages, pages_in_sitemap)\n",
    "    current_date = datetime.now().strftime('%d_%m_%Y')\n",
    "    filename = f'{project_name}_{current_date}.xlsx'\n",
    "    export_report_data_to_excel(data, path, filename)"
   ]
  },
  {
   "cell_type": "markdown",
   "id": "980ca15b",
   "metadata": {},
   "source": [
    "**Экспорт визуального отчета для сайтов с мультикартой**"
   ]
  },
  {
   "cell_type": "markdown",
   "id": "d1faaa29",
   "metadata": {},
   "source": [
    "Отдельная функция для сайтов с мультикартами. В такой карте карт может быть более 65 тысяч адресов, формат xlsx не поддерживает такое количество на одном листе, нужно записать результаты в csv."
   ]
  },
  {
   "cell_type": "code",
   "execution_count": 70,
   "id": "12ec50a9",
   "metadata": {},
   "outputs": [],
   "source": [
    "def make_visual_report_for_yandex_for_many_maps(project_name, path, indexed_pages, pages_in_sitemap):\n",
    "    data = comapre_indexed_pages_with_pages_in_sitemap(indexed_pages, pages_in_sitemap)\n",
    "    current_date = datetime.now().strftime('%d_%m_%Y')\n",
    "    filename = f'{project_name}_{current_date}.csv'\n",
    "    data.to_csv(f'{path}/{filename}', index=False)"
   ]
  },
  {
   "cell_type": "markdown",
   "id": "430967e2",
   "metadata": {},
   "source": [
    "### Создание списка на переобход"
   ]
  },
  {
   "cell_type": "markdown",
   "id": "666567aa",
   "metadata": {},
   "source": [
    "Похожая функция как для сопоставления, которая принимает set с адресами из базы Яндекса и set с адресами из карты сайта,<br>\n",
    "\n",
    "в pages_in_index_but_not_in_sitemap записываются адреса, которые есть в поисковой базе, но отсутствуют в карте сайта,<br>\n",
    "\n",
    "в pages_is_sitemap_but_not_in_index записываются адреса, которые есть в карте сайта, но отсутствуют в поисковой базе,<br>\n",
    "\n",
    "оба отчета записываются в одну колонку для отправки на переобход,<br>\n",
    "\n",
    "функция возвращает датафрейм."
   ]
  },
  {
   "cell_type": "code",
   "execution_count": 71,
   "id": "520be035",
   "metadata": {},
   "outputs": [],
   "source": [
    "def get_recrawl_base_for_yandex(indexed_pages, pages_in_sitemap):\n",
    "    pages_in_index_but_not_in_sitemap = indexed_pages - pages_in_sitemap\n",
    "    pages_is_sitemap_but_not_in_index = pages_in_sitemap - indexed_pages\n",
    "    all_pages_to_recrawl = list(pages_in_index_but_not_in_sitemap.union(pages_is_sitemap_but_not_in_index))\n",
    "    data = pd.DataFrame(all_pages_to_recrawl, columns=['urls'])\n",
    "    return data"
   ]
  },
  {
   "cell_type": "markdown",
   "id": "74562157",
   "metadata": {},
   "source": [
    "**Экспорт таблицы со списком на переобход**"
   ]
  },
  {
   "cell_type": "code",
   "execution_count": 72,
   "id": "0f8a1f62",
   "metadata": {},
   "outputs": [],
   "source": [
    "def make_recrawl_base_for_yandex(project_name, path, indexed_pages, pages_in_sitemap):\n",
    "    data = get_recrawl_base_for_yandex(indexed_pages, pages_in_sitemap)\n",
    "    filename = f'{project_name}.xlsx'\n",
    "    export_report_data_to_excel(data, path, filename)"
   ]
  },
  {
   "cell_type": "markdown",
   "id": "a62e9047",
   "metadata": {},
   "source": [
    "**Экспорт таблицы со списком на переобход для сайтов с мультикартой**"
   ]
  },
  {
   "cell_type": "code",
   "execution_count": 73,
   "id": "3c82dbac",
   "metadata": {},
   "outputs": [],
   "source": [
    "def make_recrawl_base_for_yandex_many_maps(project_name, path, indexed_pages, pages_in_sitemap):\n",
    "    data = get_recrawl_base_for_yandex(indexed_pages, pages_in_sitemap)\n",
    "    filename = f'{project_name}.csv'\n",
    "    data.to_csv(f'{path}/{filename}', index=False)"
   ]
  },
  {
   "cell_type": "markdown",
   "id": "78a80571",
   "metadata": {},
   "source": [
    "## Главная функция"
   ]
  },
  {
   "cell_type": "code",
   "execution_count": 85,
   "id": "12423e8c",
   "metadata": {},
   "outputs": [],
   "source": [
    "def main_yandex_index_sitemap_compare():\n",
    "    user_id = get_user_id()\n",
    "    \n",
    "    print(project_name)\n",
    "\n",
    "    indexed_pages = yandex_get_indexed_pages(user_id, host)\n",
    "    pages_in_sitemap = parse_sitemap_one_map(sitemap_path)\n",
    "    \n",
    "    print('Подготовка визуального отчета')\n",
    "    make_visual_report_for_yandex(project_name, YANDEX_VISUAL_REPORTS_DIR, indexed_pages, pages_in_sitemap)\n",
    "    \n",
    "    print('Подготовка таблицы со списком url на переобход')\n",
    "    make_recrawl_base_for_yandex(project_name, YANDEX_RECRAWL_BASES_DIR, indexed_pages, pages_in_sitemap)"
   ]
  },
  {
   "cell_type": "markdown",
   "id": "2d44e3ac",
   "metadata": {},
   "source": [
    "## Запуск"
   ]
  },
  {
   "cell_type": "code",
   "execution_count": 86,
   "id": "2ae43820",
   "metadata": {},
   "outputs": [
    {
     "name": "stdout",
     "output_type": "stream",
     "text": [
      "megaposm\n",
      "В поисковой базе содержится 905 страниц\n",
      "Количество страниц в Sitemap: 881\n",
      "Подготовка визуального отчета\n",
      "Подготовка таблицы со списком url на переобход\n"
     ]
    }
   ],
   "source": [
    "main_yandex_index_sitemap_compare()"
   ]
  },
  {
   "cell_type": "code",
   "execution_count": null,
   "id": "36db9b21",
   "metadata": {},
   "outputs": [],
   "source": []
  }
 ],
 "metadata": {
  "kernelspec": {
   "display_name": "Python 3",
   "language": "python",
   "name": "python3"
  },
  "language_info": {
   "codemirror_mode": {
    "name": "ipython",
    "version": 3
   },
   "file_extension": ".py",
   "mimetype": "text/x-python",
   "name": "python",
   "nbconvert_exporter": "python",
   "pygments_lexer": "ipython3",
   "version": "3.7.9"
  }
 },
 "nbformat": 4,
 "nbformat_minor": 5
}
